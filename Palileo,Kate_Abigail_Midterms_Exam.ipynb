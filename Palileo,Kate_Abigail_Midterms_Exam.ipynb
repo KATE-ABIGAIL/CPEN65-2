{
  "nbformat": 4,
  "nbformat_minor": 0,
  "metadata": {
    "colab": {
      "provenance": [],
      "authorship_tag": "ABX9TyPIxZV7JD+SXGYlEGQvniMc",
      "include_colab_link": true
    },
    "kernelspec": {
      "name": "python3",
      "display_name": "Python 3"
    },
    "language_info": {
      "name": "python"
    }
  },
  "cells": [
    {
      "cell_type": "markdown",
      "metadata": {
        "id": "view-in-github",
        "colab_type": "text"
      },
      "source": [
        "<a href=\"https://colab.research.google.com/github/KATE-ABIGAIL/CPEN65-2/blob/main/Palileo%2CKate_Abigail_Midterms_Exam.ipynb\" target=\"_parent\"><img src=\"https://colab.research.google.com/assets/colab-badge.svg\" alt=\"Open In Colab\"/></a>"
      ]
    },
    {
      "cell_type": "markdown",
      "source": [
        "1. Write a Python program to create an array of 10 integers and display the array items. Access individual elements through indexes and compute for the sum."
      ],
      "metadata": {
        "id": "cu2_qbDfDWxE"
      }
    },
    {
      "cell_type": "code",
      "execution_count": 12,
      "metadata": {
        "colab": {
          "base_uri": "https://localhost:8080/"
        },
        "id": "wYXWF_pB-gtm",
        "outputId": "acda399e-11b1-42ba-a2a4-96302a917340"
      },
      "outputs": [
        {
          "output_type": "stream",
          "name": "stdout",
          "text": [
            "Array [0] = 1\n",
            "Array [1] = 2\n",
            "Array [2] = 3\n",
            "Array [3] = 4\n",
            "Array [4] = 5\n",
            "Array [5] = 6\n",
            "Array [6] = 7\n",
            "Array [7] = 8\n",
            "Array [8] = 9\n",
            "Array [9] = 10\n",
            "sum = 55\n"
          ]
        }
      ],
      "source": [
        "num = [1,2,3,4,5,6,7,8,9,10]\n",
        "a = num[0]\n",
        "b = num[1]\n",
        "c = num[2]\n",
        "d = num[3]\n",
        "e = num[4]\n",
        "f = num[5]\n",
        "g = num[6]\n",
        "h = num[7]\n",
        "i = num[8]\n",
        "j = num[9]\n",
        "\n",
        "print(\"Array [0] =\",a)\n",
        "print(\"Array [1] =\",b)\n",
        "print(\"Array [2] =\",c)\n",
        "print(\"Array [3] =\",d)\n",
        "print(\"Array [4] =\",e)\n",
        "print(\"Array [5] =\",f)\n",
        "print(\"Array [6] =\",g)\n",
        "print(\"Array [7] =\",h)\n",
        "print(\"Array [8] =\",i)\n",
        "print(\"Array [9] =\",j)\n",
        "ans = sum(num)\n",
        "print(\"sum =\",ans)"
      ]
    },
    {
      "cell_type": "markdown",
      "source": [
        "2. Write a Python program to append a new item to the end of the array. Original array: numbers = [1, 2, 3, 4, 5, 6, 7, 8, 9, 10]\n"
      ],
      "metadata": {
        "id": "c9zM0fnSEO6r"
      }
    },
    {
      "cell_type": "code",
      "source": [
        "import array as arr\n",
        "numbers = arr.array('i',[1,2,3,4,5,6,7,8,9,10])\n",
        "print(numbers)\n",
        "numbers.append(11)\n",
        "print(numbers)"
      ],
      "metadata": {
        "colab": {
          "base_uri": "https://localhost:8080/"
        },
        "id": "J3THAj8sDWMD",
        "outputId": "d022af8d-3b7d-4a20-b164-8f563ecdbf5f"
      },
      "execution_count": 33,
      "outputs": [
        {
          "output_type": "stream",
          "name": "stdout",
          "text": [
            "array('i', [1, 2, 3, 4, 5, 6, 7, 8, 9, 10])\n",
            "array('i', [1, 2, 3, 4, 5, 6, 7, 8, 9, 10, 11])\n"
          ]
        }
      ]
    },
    {
      "cell_type": "markdown",
      "source": [
        "3. Write a Python program to insert a new item before the second element in an existing array. Original array: numbers = [1, 2, 3, 4, 5, 6, 7, 8, 9, 10]\n"
      ],
      "metadata": {
        "id": "CxyXT4yZF0Eq"
      }
    },
    {
      "cell_type": "code",
      "source": [
        "import array as arr\n",
        "numbers = arr.array('i',[1,2,3,4,5,6,7,8,9,10])\n",
        "print(numbers)\n",
        "numbers.insert(1,12)\n",
        "print(numbers)"
      ],
      "metadata": {
        "colab": {
          "base_uri": "https://localhost:8080/"
        },
        "id": "ERZ4uu6yFgs1",
        "outputId": "36fe9844-418a-4050-b185-e3ad181f2b22"
      },
      "execution_count": 32,
      "outputs": [
        {
          "output_type": "stream",
          "name": "stdout",
          "text": [
            "array('i', [1, 2, 3, 4, 5, 6, 7, 8, 9, 10])\n",
            "array('i', [1, 12, 2, 3, 4, 5, 6, 7, 8, 9, 10])\n"
          ]
        }
      ]
    },
    {
      "cell_type": "markdown",
      "source": [
        "4. Write a Python program to reverse the order of the items in the array. Original array: numbers = [5, 4, 3, 2, 1]\n"
      ],
      "metadata": {
        "id": "OchzEBFNGOUL"
      }
    },
    {
      "cell_type": "code",
      "source": [
        "import array as arr\n",
        "numbers = arr.array('i',[5,4,3,2,1])\n",
        "print(numbers)\n",
        "numbers.reverse()\n",
        "print(numbers)"
      ],
      "metadata": {
        "colab": {
          "base_uri": "https://localhost:8080/"
        },
        "id": "8dcl8185GQ_C",
        "outputId": "02e26aee-2afc-4847-8b59-226be5c3f758"
      },
      "execution_count": 31,
      "outputs": [
        {
          "output_type": "stream",
          "name": "stdout",
          "text": [
            "array('i', [5, 4, 3, 2, 1])\n",
            "array('i', [1, 2, 3, 4, 5])\n"
          ]
        }
      ]
    },
    {
      "cell_type": "markdown",
      "source": [
        "5. Write a Python program to get the length of the array. Original array: numbers = [5, 4, 3, 2, 1]\n"
      ],
      "metadata": {
        "id": "o7LWAzNiIOP0"
      }
    },
    {
      "cell_type": "code",
      "source": [
        "numbers = [5,4,3,2,1]\n",
        "print(numbers)\n",
        "n = len(numbers)\n",
        "print(n)"
      ],
      "metadata": {
        "colab": {
          "base_uri": "https://localhost:8080/"
        },
        "id": "uONP5nsDIPz6",
        "outputId": "8807a90a-129a-42c4-994b-73dc8f6252bf"
      },
      "execution_count": 29,
      "outputs": [
        {
          "output_type": "stream",
          "name": "stdout",
          "text": [
            "[5, 4, 3, 2, 1]\n",
            "5\n"
          ]
        }
      ]
    }
  ]
}