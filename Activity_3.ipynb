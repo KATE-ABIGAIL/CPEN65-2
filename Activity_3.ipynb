{
  "nbformat": 4,
  "nbformat_minor": 0,
  "metadata": {
    "colab": {
      "provenance": [],
      "authorship_tag": "ABX9TyOncyjuHhZw9pZ0wV8C335R",
      "include_colab_link": true
    },
    "kernelspec": {
      "name": "python3",
      "display_name": "Python 3"
    },
    "language_info": {
      "name": "python"
    }
  },
  "cells": [
    {
      "cell_type": "markdown",
      "metadata": {
        "id": "view-in-github",
        "colab_type": "text"
      },
      "source": [
        "<a href=\"https://colab.research.google.com/github/KATE-ABIGAIL/CPEN65-2/blob/main/Activity_3.ipynb\" target=\"_parent\"><img src=\"https://colab.research.google.com/assets/colab-badge.svg\" alt=\"Open In Colab\"/></a>"
      ]
    },
    {
      "cell_type": "code",
      "execution_count": 4,
      "metadata": {
        "colab": {
          "base_uri": "https://localhost:8080/"
        },
        "id": "r8Imt_SKYxyO",
        "outputId": "e4374720-06eb-4fc3-e2e8-3e579d52863a"
      },
      "outputs": [
        {
          "output_type": "stream",
          "name": "stdout",
          "text": [
            "K a t e A b i g a i l P a l i l e o\n",
            "o e l i l a P l i a g i b A e t a K\n"
          ]
        }
      ],
      "source": [
        "fn = [\"K\",\"a\",\"t\",\"e\",\"A\",\"b\",\"i\",\"g\",\"a\",\"i\",\"l\",\"P\",\"a\",\"l\",\"i\",\"l\",\"e\",\"o\"]\n",
        "space=\" \"\n",
        "print(space.join(fn))\n",
        "\n",
        "fn = [\"K\",\"a\",\"t\",\"e\",\"A\",\"b\",\"i\",\"g\",\"a\",\"i\",\"l\",\"P\",\"a\",\"l\",\"i\",\"l\",\"e\",\"o\"]\n",
        "space=\" \"\n",
        "fn.reverse()\n",
        "print(space.join(fn))"
      ]
    }
  ]
}